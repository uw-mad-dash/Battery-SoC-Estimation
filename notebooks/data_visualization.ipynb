{
 "cells": [
  {
   "cell_type": "code",
   "execution_count": 1,
   "metadata": {},
   "outputs": [],
   "source": [
    "# Read data from all files into a single Pandas Dataframe\n",
    "\n",
    "import pandas as pd\n",
    "import os\n",
    "\n",
    "dfs = []\n",
    "for file in sorted(\n",
    "        os.listdir(os.path.join(\"..\", \"data\")),\n",
    "        key=lambda x: (int(x[5]), int(x.split(\"Cycle\")[-1][:-4])),\n",
    "    ):\n",
    "    \n",
    "    path_to_file = os.path.join(\"..\", \"data\", file)\n",
    "    df = pd.read_csv(path_to_file)\n",
    "    dfs.append(df)\n",
    "    \n",
    "df = pd.concat(dfs).reset_index(drop=True)"
   ]
  },
  {
   "cell_type": "code",
   "execution_count": 2,
   "metadata": {},
   "outputs": [
    {
     "data": {
      "text/plain": [
       "Index(['Voltage [V]', 'Current [A]', 'AhStep [Ah]', 'TempBottom [C]',\n",
       "       'CRate [-]', 'SOC [%]', 'Cycle [-]', 'Time [s]'],\n",
       "      dtype='object')"
      ]
     },
     "execution_count": 2,
     "metadata": {},
     "output_type": "execute_result"
    }
   ],
   "source": [
    "# Print columns/features present in the data\n",
    "\n",
    "df.columns"
   ]
  },
  {
   "cell_type": "code",
   "execution_count": 3,
   "metadata": {},
   "outputs": [],
   "source": [
    "# Start interactive visualization JupyterDash\n",
    "\n",
    "from jupyter_dash import JupyterDash\n",
    "\n",
    "external_stylesheets = ['https://codepen.io/chriddyp/pen/bWLwgP.css']\n",
    "\n",
    "app = JupyterDash(__name__, external_stylesheets=external_stylesheets)"
   ]
  },
  {
   "cell_type": "code",
   "execution_count": 4,
   "metadata": {},
   "outputs": [],
   "source": [
    "from dash import dcc, html\n",
    "import plotly.express as px\n",
    "import plotly.graph_objs as go\n",
    "\n",
    "df1_1 = df[(df[\"Cycle [-]\"] <= 5) & (df[\"CRate [-]\"] == 1)]\n",
    "df1_2 = df[(df[\"Cycle [-]\"] <= 5) & (df[\"CRate [-]\"] == 2)]\n",
    "fig1 = go.Figure([\n",
    "    go.Scatter(\n",
    "        name='State-of-Charge during the first five cycles of discharging cell at CRate 1',\n",
    "        x=df1_1['Time [s]'],\n",
    "        y=df1_1[\"SOC [%]\"],\n",
    "        mode='markers',\n",
    "        opacity=0.5,\n",
    "        showlegend=True\n",
    "    ),\n",
    "    go.Scatter(\n",
    "        name='State-of-Charge during the first five cycles of discharging cell at CRate 2',\n",
    "        x=df1_2['Time [s]'],\n",
    "        y=df1_2[\"SOC [%]\"],\n",
    "        mode='markers',\n",
    "        opacity=0.5,\n",
    "        showlegend=True\n",
    "    ),\n",
    "])\n",
    "fig1.update_layout(yaxis_title='SOC [%]', xaxis_title='Time [s]')\n",
    "\n",
    "df2 = df[(df[\"Cycle [-]\"] == 48) & (df[\"CRate [-]\"] == 3)]\n",
    "fig2 = px.scatter(df2, x='Time [s]', y=\"Voltage [V]\", title=\"Plot of voltage during the last cycle measured at CRate 3\")\n",
    "\n",
    "app.layout = html.Div([\n",
    "    dcc.Graph(figure=fig1),\n",
    "    dcc.Graph(figure=fig2),\n",
    "    ]\n",
    ")"
   ]
  },
  {
   "cell_type": "code",
   "execution_count": 5,
   "metadata": {},
   "outputs": [
    {
     "data": {
      "text/html": [
       "\n",
       "        <iframe\n",
       "            width=\"100%\"\n",
       "            height=\"650\"\n",
       "            src=\"http://127.0.0.1:5050/\"\n",
       "            frameborder=\"0\"\n",
       "            allowfullscreen\n",
       "            \n",
       "        ></iframe>\n",
       "        "
      ],
      "text/plain": [
       "<IPython.lib.display.IFrame at 0x129964fa0>"
      ]
     },
     "metadata": {},
     "output_type": "display_data"
    }
   ],
   "source": [
    "app.run_server(mode=\"inline\", port=\"5050\")"
   ]
  }
 ],
 "metadata": {
  "kernelspec": {
   "display_name": "research",
   "language": "python",
   "name": "research"
  },
  "language_info": {
   "codemirror_mode": {
    "name": "ipython",
    "version": 3
   },
   "file_extension": ".py",
   "mimetype": "text/x-python",
   "name": "python",
   "nbconvert_exporter": "python",
   "pygments_lexer": "ipython3",
   "version": "3.8.13"
  },
  "vscode": {
   "interpreter": {
    "hash": "aee8b7b246df8f9039afb4144a1f6fd8d2ca17a180786b69acc140d282b71a49"
   }
  }
 },
 "nbformat": 4,
 "nbformat_minor": 2
}
